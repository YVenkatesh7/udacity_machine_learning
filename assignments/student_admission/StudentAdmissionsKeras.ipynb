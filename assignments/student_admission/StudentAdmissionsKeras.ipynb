{
  "nbformat": 4,
  "nbformat_minor": 0,
  "metadata": {
    "colab": {
      "name": "StudentAdmissionsKeras.ipynb",
      "version": "0.3.2",
      "views": {},
      "default_view": {},
      "provenance": []
    },
    "kernelspec": {
      "display_name": "Python 3",
      "language": "python",
      "name": "python3"
    },
    "accelerator": "GPU"
  },
  "cells": [
    {
      "metadata": {
        "id": "0BXBCo0nWC6G",
        "colab_type": "code",
        "colab": {
          "autoexec": {
            "startup": false,
            "wait_interval": 0
          }
        }
      },
      "cell_type": "code",
      "source": [
        "# Install the PyDrive wrapper & import libraries.\n",
        "# This only needs to be done once per notebook.\n",
        "!pip install -U -q PyDrive\n",
        "from pydrive.auth import GoogleAuth\n",
        "from pydrive.drive import GoogleDrive\n",
        "from google.colab import auth\n",
        "from oauth2client.client import GoogleCredentials\n",
        "import os\n",
        "\n",
        "# Authenticate and create the PyDrive client.\n",
        "# This only needs to be done once per notebook.\n",
        "auth.authenticate_user()\n",
        "gauth = GoogleAuth()\n",
        "gauth.credentials = GoogleCredentials.get_application_default()\n",
        "drive = GoogleDrive(gauth)\n",
        "\n",
        "# choose a local (colab) directory to store the data.\n",
        "local_download_path = os.path.expanduser('~/data')\n",
        "try:\n",
        "  os.makedirs(local_download_path)\n",
        "except: pass\n",
        "\n",
        "file_id = '10Guj_0Hnl_4ml1phbqkjrxGaxvvSZd9Y'\n",
        "fname = os.path.join(local_download_path, 'student_data.csv')\n",
        "downloaded = drive.CreateFile({'id': file_id})\n",
        "downloaded.GetContentFile(fname)"
      ],
      "execution_count": 0,
      "outputs": []
    },
    {
      "metadata": {
        "id": "OL5Or1gbWqDf",
        "colab_type": "code",
        "colab": {
          "autoexec": {
            "startup": false,
            "wait_interval": 0
          },
          "base_uri": "https://localhost:8080/",
          "height": 34
        },
        "outputId": "cb7c95b2-0d8a-41ff-8db0-ae1b4ebc7fe2",
        "executionInfo": {
          "status": "ok",
          "timestamp": 1525509773037,
          "user_tz": -120,
          "elapsed": 1700,
          "user": {
            "displayName": "Dominik Söllinger",
            "photoUrl": "https://lh3.googleusercontent.com/a/default-user=s128",
            "userId": "102048379799982613199"
          }
        }
      },
      "cell_type": "code",
      "source": [
        "!ls data"
      ],
      "execution_count": 179,
      "outputs": [
        {
          "output_type": "stream",
          "text": [
            "student_data.csv\r\n"
          ],
          "name": "stdout"
        }
      ]
    },
    {
      "metadata": {
        "id": "kAYC-quTNm4t",
        "colab_type": "code",
        "colab": {
          "autoexec": {
            "startup": false,
            "wait_interval": 0
          },
          "base_uri": "https://localhost:8080/",
          "height": 359
        },
        "outputId": "7ad8fdc9-0689-40a2-b9da-54c52210b40b",
        "executionInfo": {
          "status": "ok",
          "timestamp": 1525509773653,
          "user_tz": -120,
          "elapsed": 583,
          "user": {
            "displayName": "Dominik Söllinger",
            "photoUrl": "https://lh3.googleusercontent.com/a/default-user=s128",
            "userId": "102048379799982613199"
          }
        }
      },
      "cell_type": "code",
      "source": [
        "# Importing pandas and numpy\n",
        "import pandas as pd\n",
        "import numpy as np\n",
        "\n",
        "# Reading the csv file into a pandas DataFrame\n",
        "data = pd.read_csv('~/data/student_data.csv')\n",
        "\n",
        "# Printing out the first 10 rows of our data\n",
        "data[:10]"
      ],
      "execution_count": 180,
      "outputs": [
        {
          "output_type": "execute_result",
          "data": {
            "text/html": [
              "<div>\n",
              "<style scoped>\n",
              "    .dataframe tbody tr th:only-of-type {\n",
              "        vertical-align: middle;\n",
              "    }\n",
              "\n",
              "    .dataframe tbody tr th {\n",
              "        vertical-align: top;\n",
              "    }\n",
              "\n",
              "    .dataframe thead th {\n",
              "        text-align: right;\n",
              "    }\n",
              "</style>\n",
              "<table border=\"1\" class=\"dataframe\">\n",
              "  <thead>\n",
              "    <tr style=\"text-align: right;\">\n",
              "      <th></th>\n",
              "      <th>admit</th>\n",
              "      <th>gre</th>\n",
              "      <th>gpa</th>\n",
              "      <th>rank</th>\n",
              "    </tr>\n",
              "  </thead>\n",
              "  <tbody>\n",
              "    <tr>\n",
              "      <th>0</th>\n",
              "      <td>0</td>\n",
              "      <td>380</td>\n",
              "      <td>3.61</td>\n",
              "      <td>3</td>\n",
              "    </tr>\n",
              "    <tr>\n",
              "      <th>1</th>\n",
              "      <td>1</td>\n",
              "      <td>660</td>\n",
              "      <td>3.67</td>\n",
              "      <td>3</td>\n",
              "    </tr>\n",
              "    <tr>\n",
              "      <th>2</th>\n",
              "      <td>1</td>\n",
              "      <td>800</td>\n",
              "      <td>4.00</td>\n",
              "      <td>1</td>\n",
              "    </tr>\n",
              "    <tr>\n",
              "      <th>3</th>\n",
              "      <td>1</td>\n",
              "      <td>640</td>\n",
              "      <td>3.19</td>\n",
              "      <td>4</td>\n",
              "    </tr>\n",
              "    <tr>\n",
              "      <th>4</th>\n",
              "      <td>0</td>\n",
              "      <td>520</td>\n",
              "      <td>2.93</td>\n",
              "      <td>4</td>\n",
              "    </tr>\n",
              "    <tr>\n",
              "      <th>5</th>\n",
              "      <td>1</td>\n",
              "      <td>760</td>\n",
              "      <td>3.00</td>\n",
              "      <td>2</td>\n",
              "    </tr>\n",
              "    <tr>\n",
              "      <th>6</th>\n",
              "      <td>1</td>\n",
              "      <td>560</td>\n",
              "      <td>2.98</td>\n",
              "      <td>1</td>\n",
              "    </tr>\n",
              "    <tr>\n",
              "      <th>7</th>\n",
              "      <td>0</td>\n",
              "      <td>400</td>\n",
              "      <td>3.08</td>\n",
              "      <td>2</td>\n",
              "    </tr>\n",
              "    <tr>\n",
              "      <th>8</th>\n",
              "      <td>1</td>\n",
              "      <td>540</td>\n",
              "      <td>3.39</td>\n",
              "      <td>3</td>\n",
              "    </tr>\n",
              "    <tr>\n",
              "      <th>9</th>\n",
              "      <td>0</td>\n",
              "      <td>700</td>\n",
              "      <td>3.92</td>\n",
              "      <td>2</td>\n",
              "    </tr>\n",
              "  </tbody>\n",
              "</table>\n",
              "</div>"
            ],
            "text/plain": [
              "   admit  gre   gpa  rank\n",
              "0      0  380  3.61     3\n",
              "1      1  660  3.67     3\n",
              "2      1  800  4.00     1\n",
              "3      1  640  3.19     4\n",
              "4      0  520  2.93     4\n",
              "5      1  760  3.00     2\n",
              "6      1  560  2.98     1\n",
              "7      0  400  3.08     2\n",
              "8      1  540  3.39     3\n",
              "9      0  700  3.92     2"
            ]
          },
          "metadata": {
            "tags": []
          },
          "execution_count": 180
        }
      ]
    },
    {
      "metadata": {
        "id": "Y9Uhhk2QPcmT",
        "colab_type": "text"
      },
      "cell_type": "markdown",
      "source": [
        ""
      ]
    },
    {
      "metadata": {
        "id": "kE1tx8PDNm4z",
        "colab_type": "text"
      },
      "cell_type": "markdown",
      "source": [
        "## Plotting the data\n",
        "\n",
        "First let's make a plot of our data to see how it looks. In order to have a 2D plot, let's ingore the rank."
      ]
    },
    {
      "metadata": {
        "id": "7KcmzOl1Nm40",
        "colab_type": "code",
        "colab": {
          "autoexec": {
            "startup": false,
            "wait_interval": 0
          },
          "base_uri": "https://localhost:8080/",
          "height": 361
        },
        "outputId": "587965ab-153c-4b35-9678-2528bf0d5fc0",
        "executionInfo": {
          "status": "ok",
          "timestamp": 1525509774334,
          "user_tz": -120,
          "elapsed": 591,
          "user": {
            "displayName": "Dominik Söllinger",
            "photoUrl": "https://lh3.googleusercontent.com/a/default-user=s128",
            "userId": "102048379799982613199"
          }
        }
      },
      "cell_type": "code",
      "source": [
        "# Importing matplotlib\n",
        "import matplotlib.pyplot as plt\n",
        "\n",
        "# Function to help us plot\n",
        "def plot_points(data):\n",
        "    X = np.array(data[[\"gre\",\"gpa\"]])\n",
        "    y = np.array(data[\"admit\"])\n",
        "    admitted = X[np.argwhere(y==1)]\n",
        "    rejected = X[np.argwhere(y==0)]\n",
        "    plt.scatter([s[0][0] for s in rejected], [s[0][1] for s in rejected], s = 25, color = 'red', edgecolor = 'k')\n",
        "    plt.scatter([s[0][0] for s in admitted], [s[0][1] for s in admitted], s = 25, color = 'cyan', edgecolor = 'k')\n",
        "    plt.xlabel('Test (GRE)')\n",
        "    plt.ylabel('Grades (GPA)')\n",
        "    \n",
        "# Plotting the points\n",
        "plot_points(data)\n",
        "plt.show()"
      ],
      "execution_count": 181,
      "outputs": [
        {
          "output_type": "display_data",
          "data": {
            "image/png": "[encoded data removed]",
            "text/plain": [
              "<matplotlib.figure.Figure at 0x7f18dae73d68>"
            ]
          },
          "metadata": {
            "tags": []
          }
        }
      ]
    },
    {
      "metadata": {
        "id": "tVIxHLH5Nm44",
        "colab_type": "text"
      },
      "cell_type": "markdown",
      "source": [
        "Roughly, it looks like the students with high scores in the grades and test passed, while the ones with low scores didn't, but the data is not as nicely separable as we hoped it would. Maybe it would help to take the rank into account? Let's make 4 plots, each one for each rank."
      ]
    },
    {
      "metadata": {
        "id": "2eSnkJIcNm46",
        "colab_type": "code",
        "colab": {
          "autoexec": {
            "startup": false,
            "wait_interval": 0
          },
          "base_uri": "https://localhost:8080/",
          "height": 1453
        },
        "outputId": "ea7165df-0835-471d-d5f6-4841f6ff3291",
        "executionInfo": {
          "status": "ok",
          "timestamp": 1525509775770,
          "user_tz": -120,
          "elapsed": 1336,
          "user": {
            "displayName": "Dominik Söllinger",
            "photoUrl": "https://lh3.googleusercontent.com/a/default-user=s128",
            "userId": "102048379799982613199"
          }
        }
      },
      "cell_type": "code",
      "source": [
        "# Separating the ranks\n",
        "data_rank1 = data[data[\"rank\"]==1]\n",
        "data_rank2 = data[data[\"rank\"]==2]\n",
        "data_rank3 = data[data[\"rank\"]==3]\n",
        "data_rank4 = data[data[\"rank\"]==4]\n",
        "\n",
        "# Plotting the graphs\n",
        "plot_points(data_rank1)\n",
        "plt.title(\"Rank 1\")\n",
        "plt.show()\n",
        "plot_points(data_rank2)\n",
        "plt.title(\"Rank 2\")\n",
        "plt.show()\n",
        "plot_points(data_rank3)\n",
        "plt.title(\"Rank 3\")\n",
        "plt.show()\n",
        "plot_points(data_rank4)\n",
        "plt.title(\"Rank 4\")\n",
        "plt.show()"
      ],
      "execution_count": 182,
      "outputs": [
        {
          "output_type": "display_data",
          "data": {
            "image/png": "[encoded data removed]",
            "text/plain": [
              "<matplotlib.figure.Figure at 0x7f18daeda668>"
            ]
          },
          "metadata": {
            "tags": []
          }
        },
        {
          "output_type": "display_data",
          "data": {
            "image/png": "[encoded data removed]",
            "text/plain": [
              "<matplotlib.figure.Figure at 0x7f18da923f98>"
            ]
          },
          "metadata": {
            "tags": []
          }
        },
        {
          "output_type": "display_data",
          "data": {
            "image/png": "[encoded data removed]",
            "text/plain": [
              "<matplotlib.figure.Figure at 0x7f18da954080>"
            ]
          },
          "metadata": {
            "tags": []
          }
        },
        {
          "output_type": "display_data",
          "data": {
            "image/png": "[encoded data removed]",
            "text/plain": [
              "<matplotlib.figure.Figure at 0x7f18daa98da0>"
            ]
          },
          "metadata": {
            "tags": []
          }
        }
      ]
    },
    {
      "metadata": {
        "id": "ATWVx9g4Nm4_",
        "colab_type": "text"
      },
      "cell_type": "markdown",
      "source": [
        "This looks more promising, as it seems that the lower the rank, the higher the acceptance rate. Let's use the rank as one of our inputs. In order to do this, we should one-hot encode it.\n",
        "\n",
        "## One-hot encoding the rank\n",
        "For this, we'll use the `get_dummies` function in pandas."
      ]
    },
    {
      "metadata": {
        "id": "QMSYCIbLNm5A",
        "colab_type": "code",
        "colab": {
          "autoexec": {
            "startup": false,
            "wait_interval": 0
          },
          "base_uri": "https://localhost:8080/",
          "height": 359
        },
        "outputId": "84a0c847-0eca-4ffb-ffd3-1fbcc873735e",
        "executionInfo": {
          "status": "ok",
          "timestamp": 1525509776406,
          "user_tz": -120,
          "elapsed": 604,
          "user": {
            "displayName": "Dominik Söllinger",
            "photoUrl": "https://lh3.googleusercontent.com/a/default-user=s128",
            "userId": "102048379799982613199"
          }
        }
      },
      "cell_type": "code",
      "source": [
        "# Make dummy variables for rank\n",
        "one_hot_data = pd.concat([data, pd.get_dummies(data['rank'], prefix='rank')], axis=1)\n",
        "\n",
        "# Drop the previous rank column\n",
        "one_hot_data = one_hot_data.drop('rank', axis=1)\n",
        "\n",
        "# Print the first 10 rows of our data\n",
        "one_hot_data[:10]"
      ],
      "execution_count": 183,
      "outputs": [
        {
          "output_type": "execute_result",
          "data": {
            "text/html": [
              "<div>\n",
              "<style scoped>\n",
              "    .dataframe tbody tr th:only-of-type {\n",
              "        vertical-align: middle;\n",
              "    }\n",
              "\n",
              "    .dataframe tbody tr th {\n",
              "        vertical-align: top;\n",
              "    }\n",
              "\n",
              "    .dataframe thead th {\n",
              "        text-align: right;\n",
              "    }\n",
              "</style>\n",
              "<table border=\"1\" class=\"dataframe\">\n",
              "  <thead>\n",
              "    <tr style=\"text-align: right;\">\n",
              "      <th></th>\n",
              "      <th>admit</th>\n",
              "      <th>gre</th>\n",
              "      <th>gpa</th>\n",
              "      <th>rank_1</th>\n",
              "      <th>rank_2</th>\n",
              "      <th>rank_3</th>\n",
              "      <th>rank_4</th>\n",
              "    </tr>\n",
              "  </thead>\n",
              "  <tbody>\n",
              "    <tr>\n",
              "      <th>0</th>\n",
              "      <td>0</td>\n",
              "      <td>380</td>\n",
              "      <td>3.61</td>\n",
              "      <td>0</td>\n",
              "      <td>0</td>\n",
              "      <td>1</td>\n",
              "      <td>0</td>\n",
              "    </tr>\n",
              "    <tr>\n",
              "      <th>1</th>\n",
              "      <td>1</td>\n",
              "      <td>660</td>\n",
              "      <td>3.67</td>\n",
              "      <td>0</td>\n",
              "      <td>0</td>\n",
              "      <td>1</td>\n",
              "      <td>0</td>\n",
              "    </tr>\n",
              "    <tr>\n",
              "      <th>2</th>\n",
              "      <td>1</td>\n",
              "      <td>800</td>\n",
              "      <td>4.00</td>\n",
              "      <td>1</td>\n",
              "      <td>0</td>\n",
              "      <td>0</td>\n",
              "      <td>0</td>\n",
              "    </tr>\n",
              "    <tr>\n",
              "      <th>3</th>\n",
              "      <td>1</td>\n",
              "      <td>640</td>\n",
              "      <td>3.19</td>\n",
              "      <td>0</td>\n",
              "      <td>0</td>\n",
              "      <td>0</td>\n",
              "      <td>1</td>\n",
              "    </tr>\n",
              "    <tr>\n",
              "      <th>4</th>\n",
              "      <td>0</td>\n",
              "      <td>520</td>\n",
              "      <td>2.93</td>\n",
              "      <td>0</td>\n",
              "      <td>0</td>\n",
              "      <td>0</td>\n",
              "      <td>1</td>\n",
              "    </tr>\n",
              "    <tr>\n",
              "      <th>5</th>\n",
              "      <td>1</td>\n",
              "      <td>760</td>\n",
              "      <td>3.00</td>\n",
              "      <td>0</td>\n",
              "      <td>1</td>\n",
              "      <td>0</td>\n",
              "      <td>0</td>\n",
              "    </tr>\n",
              "    <tr>\n",
              "      <th>6</th>\n",
              "      <td>1</td>\n",
              "      <td>560</td>\n",
              "      <td>2.98</td>\n",
              "      <td>1</td>\n",
              "      <td>0</td>\n",
              "      <td>0</td>\n",
              "      <td>0</td>\n",
              "    </tr>\n",
              "    <tr>\n",
              "      <th>7</th>\n",
              "      <td>0</td>\n",
              "      <td>400</td>\n",
              "      <td>3.08</td>\n",
              "      <td>0</td>\n",
              "      <td>1</td>\n",
              "      <td>0</td>\n",
              "      <td>0</td>\n",
              "    </tr>\n",
              "    <tr>\n",
              "      <th>8</th>\n",
              "      <td>1</td>\n",
              "      <td>540</td>\n",
              "      <td>3.39</td>\n",
              "      <td>0</td>\n",
              "      <td>0</td>\n",
              "      <td>1</td>\n",
              "      <td>0</td>\n",
              "    </tr>\n",
              "    <tr>\n",
              "      <th>9</th>\n",
              "      <td>0</td>\n",
              "      <td>700</td>\n",
              "      <td>3.92</td>\n",
              "      <td>0</td>\n",
              "      <td>1</td>\n",
              "      <td>0</td>\n",
              "      <td>0</td>\n",
              "    </tr>\n",
              "  </tbody>\n",
              "</table>\n",
              "</div>"
            ],
            "text/plain": [
              "   admit  gre   gpa  rank_1  rank_2  rank_3  rank_4\n",
              "0      0  380  3.61       0       0       1       0\n",
              "1      1  660  3.67       0       0       1       0\n",
              "2      1  800  4.00       1       0       0       0\n",
              "3      1  640  3.19       0       0       0       1\n",
              "4      0  520  2.93       0       0       0       1\n",
              "5      1  760  3.00       0       1       0       0\n",
              "6      1  560  2.98       1       0       0       0\n",
              "7      0  400  3.08       0       1       0       0\n",
              "8      1  540  3.39       0       0       1       0\n",
              "9      0  700  3.92       0       1       0       0"
            ]
          },
          "metadata": {
            "tags": []
          },
          "execution_count": 183
        }
      ]
    },
    {
      "metadata": {
        "id": "VuDkBFLtNm5D",
        "colab_type": "text"
      },
      "cell_type": "markdown",
      "source": [
        "## Scaling the data\n",
        "The next step is to scale the data. We notice that the range for grades is 1.0-4.0, whereas the range for test scores is roughly 200-800, which is much larger. This means our data is skewed, and that makes it hard for a neural network to handle. Let's fit our two features into a range of 0-1, by dividing the grades by 4.0, and the test score by 800."
      ]
    },
    {
      "metadata": {
        "id": "60ivZs9INm5E",
        "colab_type": "code",
        "colab": {
          "autoexec": {
            "startup": false,
            "wait_interval": 0
          },
          "base_uri": "https://localhost:8080/",
          "height": 359
        },
        "outputId": "903346fe-44e8-4f1d-fae4-e4f1825549a1",
        "executionInfo": {
          "status": "ok",
          "timestamp": 1525509777194,
          "user_tz": -120,
          "elapsed": 696,
          "user": {
            "displayName": "Dominik Söllinger",
            "photoUrl": "https://lh3.googleusercontent.com/a/default-user=s128",
            "userId": "102048379799982613199"
          }
        }
      },
      "cell_type": "code",
      "source": [
        "# Copying our data\n",
        "processed_data = one_hot_data[:]\n",
        "\n",
        "# Scaling the columns\n",
        "processed_data['gre'] = processed_data['gre']/800\n",
        "processed_data['gpa'] = processed_data['gpa']/4.0\n",
        "processed_data[:10]"
      ],
      "execution_count": 184,
      "outputs": [
        {
          "output_type": "execute_result",
          "data": {
            "text/html": [
              "<div>\n",
              "<style scoped>\n",
              "    .dataframe tbody tr th:only-of-type {\n",
              "        vertical-align: middle;\n",
              "    }\n",
              "\n",
              "    .dataframe tbody tr th {\n",
              "        vertical-align: top;\n",
              "    }\n",
              "\n",
              "    .dataframe thead th {\n",
              "        text-align: right;\n",
              "    }\n",
              "</style>\n",
              "<table border=\"1\" class=\"dataframe\">\n",
              "  <thead>\n",
              "    <tr style=\"text-align: right;\">\n",
              "      <th></th>\n",
              "      <th>admit</th>\n",
              "      <th>gre</th>\n",
              "      <th>gpa</th>\n",
              "      <th>rank_1</th>\n",
              "      <th>rank_2</th>\n",
              "      <th>rank_3</th>\n",
              "      <th>rank_4</th>\n",
              "    </tr>\n",
              "  </thead>\n",
              "  <tbody>\n",
              "    <tr>\n",
              "      <th>0</th>\n",
              "      <td>0</td>\n",
              "      <td>0.475</td>\n",
              "      <td>0.9025</td>\n",
              "      <td>0</td>\n",
              "      <td>0</td>\n",
              "      <td>1</td>\n",
              "      <td>0</td>\n",
              "    </tr>\n",
              "    <tr>\n",
              "      <th>1</th>\n",
              "      <td>1</td>\n",
              "      <td>0.825</td>\n",
              "      <td>0.9175</td>\n",
              "      <td>0</td>\n",
              "      <td>0</td>\n",
              "      <td>1</td>\n",
              "      <td>0</td>\n",
              "    </tr>\n",
              "    <tr>\n",
              "      <th>2</th>\n",
              "      <td>1</td>\n",
              "      <td>1.000</td>\n",
              "      <td>1.0000</td>\n",
              "      <td>1</td>\n",
              "      <td>0</td>\n",
              "      <td>0</td>\n",
              "      <td>0</td>\n",
              "    </tr>\n",
              "    <tr>\n",
              "      <th>3</th>\n",
              "      <td>1</td>\n",
              "      <td>0.800</td>\n",
              "      <td>0.7975</td>\n",
              "      <td>0</td>\n",
              "      <td>0</td>\n",
              "      <td>0</td>\n",
              "      <td>1</td>\n",
              "    </tr>\n",
              "    <tr>\n",
              "      <th>4</th>\n",
              "      <td>0</td>\n",
              "      <td>0.650</td>\n",
              "      <td>0.7325</td>\n",
              "      <td>0</td>\n",
              "      <td>0</td>\n",
              "      <td>0</td>\n",
              "      <td>1</td>\n",
              "    </tr>\n",
              "    <tr>\n",
              "      <th>5</th>\n",
              "      <td>1</td>\n",
              "      <td>0.950</td>\n",
              "      <td>0.7500</td>\n",
              "      <td>0</td>\n",
              "      <td>1</td>\n",
              "      <td>0</td>\n",
              "      <td>0</td>\n",
              "    </tr>\n",
              "    <tr>\n",
              "      <th>6</th>\n",
              "      <td>1</td>\n",
              "      <td>0.700</td>\n",
              "      <td>0.7450</td>\n",
              "      <td>1</td>\n",
              "      <td>0</td>\n",
              "      <td>0</td>\n",
              "      <td>0</td>\n",
              "    </tr>\n",
              "    <tr>\n",
              "      <th>7</th>\n",
              "      <td>0</td>\n",
              "      <td>0.500</td>\n",
              "      <td>0.7700</td>\n",
              "      <td>0</td>\n",
              "      <td>1</td>\n",
              "      <td>0</td>\n",
              "      <td>0</td>\n",
              "    </tr>\n",
              "    <tr>\n",
              "      <th>8</th>\n",
              "      <td>1</td>\n",
              "      <td>0.675</td>\n",
              "      <td>0.8475</td>\n",
              "      <td>0</td>\n",
              "      <td>0</td>\n",
              "      <td>1</td>\n",
              "      <td>0</td>\n",
              "    </tr>\n",
              "    <tr>\n",
              "      <th>9</th>\n",
              "      <td>0</td>\n",
              "      <td>0.875</td>\n",
              "      <td>0.9800</td>\n",
              "      <td>0</td>\n",
              "      <td>1</td>\n",
              "      <td>0</td>\n",
              "      <td>0</td>\n",
              "    </tr>\n",
              "  </tbody>\n",
              "</table>\n",
              "</div>"
            ],
            "text/plain": [
              "   admit    gre     gpa  rank_1  rank_2  rank_3  rank_4\n",
              "0      0  0.475  0.9025       0       0       1       0\n",
              "1      1  0.825  0.9175       0       0       1       0\n",
              "2      1  1.000  1.0000       1       0       0       0\n",
              "3      1  0.800  0.7975       0       0       0       1\n",
              "4      0  0.650  0.7325       0       0       0       1\n",
              "5      1  0.950  0.7500       0       1       0       0\n",
              "6      1  0.700  0.7450       1       0       0       0\n",
              "7      0  0.500  0.7700       0       1       0       0\n",
              "8      1  0.675  0.8475       0       0       1       0\n",
              "9      0  0.875  0.9800       0       1       0       0"
            ]
          },
          "metadata": {
            "tags": []
          },
          "execution_count": 184
        }
      ]
    },
    {
      "metadata": {
        "id": "wvCszL3hNm5H",
        "colab_type": "text"
      },
      "cell_type": "markdown",
      "source": [
        "## Splitting the data into Training and Testing"
      ]
    },
    {
      "metadata": {
        "id": "_FgZtTtcNm5I",
        "colab_type": "text"
      },
      "cell_type": "markdown",
      "source": [
        "In order to test our algorithm, we'll split the data into a Training and a Testing set. The size of the testing set will be 10% of the total data."
      ]
    },
    {
      "metadata": {
        "id": "pGQMOEEONm5J",
        "colab_type": "code",
        "colab": {
          "autoexec": {
            "startup": false,
            "wait_interval": 0
          },
          "base_uri": "https://localhost:8080/",
          "height": 425
        },
        "outputId": "3ab81223-0fef-4661-ddc0-e86696be7471",
        "executionInfo": {
          "status": "ok",
          "timestamp": 1525509777792,
          "user_tz": -120,
          "elapsed": 516,
          "user": {
            "displayName": "Dominik Söllinger",
            "photoUrl": "https://lh3.googleusercontent.com/a/default-user=s128",
            "userId": "102048379799982613199"
          }
        }
      },
      "cell_type": "code",
      "source": [
        "sample = np.random.choice(processed_data.index, size=int(len(processed_data)*0.9), replace=False)\n",
        "train_data, test_data = processed_data.iloc[sample], processed_data.drop(sample)\n",
        "\n",
        "print(\"Number of training samples is\", len(train_data))\n",
        "print(\"Number of testing samples is\", len(test_data))\n",
        "print(train_data[:10])\n",
        "print(test_data[:10])"
      ],
      "execution_count": 185,
      "outputs": [
        {
          "output_type": "stream",
          "text": [
            "Number of training samples is 360\n",
            "Number of testing samples is 40\n",
            "     admit    gre     gpa  rank_1  rank_2  rank_3  rank_4\n",
            "320      0  0.575  0.7850       0       0       1       0\n",
            "237      0  0.600  1.0000       0       1       0       0\n",
            "350      1  0.975  1.0000       0       1       0       0\n",
            "55       1  0.925  1.0000       0       0       1       0\n",
            "281      0  0.450  0.8175       0       0       1       0\n",
            "326      0  0.850  0.8275       0       1       0       0\n",
            "232      0  0.475  0.8450       0       1       0       0\n",
            "12       1  0.950  1.0000       1       0       0       0\n",
            "302      1  0.500  0.7875       0       1       0       0\n",
            "324      0  0.650  0.6750       0       0       1       0\n",
            "     admit    gre     gpa  rank_1  rank_2  rank_3  rank_4\n",
            "16       0  0.975  0.9675       0       0       0       1\n",
            "33       1  1.000  1.0000       0       0       1       0\n",
            "61       0  0.700  0.8300       0       0       0       1\n",
            "91       1  0.900  0.9100       1       0       0       0\n",
            "93       0  0.725  0.7325       0       1       0       0\n",
            "98       0  0.875  0.7200       0       1       0       0\n",
            "103      0  0.675  0.9850       0       0       1       0\n",
            "107      0  0.600  0.7825       0       1       0       0\n",
            "109      0  0.600  0.8625       0       1       0       0\n",
            "111      0  0.525  0.8525       0       0       0       1\n"
          ],
          "name": "stdout"
        }
      ]
    },
    {
      "metadata": {
        "id": "KxmkPBhLNm5N",
        "colab_type": "text"
      },
      "cell_type": "markdown",
      "source": [
        "## Splitting the data into features and targets (labels)\n",
        "Now, as a final step before the training, we'll split the data into features (X) and targets (y).\n",
        "\n",
        "Also, in Keras, we need to one-hot encode the output. We'll do this with the `to_categorical function`."
      ]
    },
    {
      "metadata": {
        "id": "cdZWqx9gNm5O",
        "colab_type": "code",
        "colab": {
          "autoexec": {
            "startup": false,
            "wait_interval": 0
          },
          "base_uri": "https://localhost:8080/",
          "height": 357
        },
        "outputId": "e1b07cc1-4651-4b40-91f9-a0e9124b0723",
        "executionInfo": {
          "status": "ok",
          "timestamp": 1525509778380,
          "user_tz": -120,
          "elapsed": 503,
          "user": {
            "displayName": "Dominik Söllinger",
            "photoUrl": "https://lh3.googleusercontent.com/a/default-user=s128",
            "userId": "102048379799982613199"
          }
        }
      },
      "cell_type": "code",
      "source": [
        "import keras\n",
        "\n",
        "# Separate data and one-hot encode the output\n",
        "# Note: We're also turning the data into numpy arrays, in order to train the model in Keras\n",
        "features = np.array(train_data.drop('admit', axis=1))\n",
        "targets = np.array(keras.utils.to_categorical(train_data['admit'], 2))\n",
        "features_test = np.array(test_data.drop('admit', axis=1))\n",
        "targets_test = np.array(keras.utils.to_categorical(test_data['admit'], 2))\n",
        "\n",
        "print(features[:10])\n",
        "print(targets[:10])"
      ],
      "execution_count": 186,
      "outputs": [
        {
          "output_type": "stream",
          "text": [
            "[[0.575  0.785  0.     0.     1.     0.    ]\n",
            " [0.6    1.     0.     1.     0.     0.    ]\n",
            " [0.975  1.     0.     1.     0.     0.    ]\n",
            " [0.925  1.     0.     0.     1.     0.    ]\n",
            " [0.45   0.8175 0.     0.     1.     0.    ]\n",
            " [0.85   0.8275 0.     1.     0.     0.    ]\n",
            " [0.475  0.845  0.     1.     0.     0.    ]\n",
            " [0.95   1.     1.     0.     0.     0.    ]\n",
            " [0.5    0.7875 0.     1.     0.     0.    ]\n",
            " [0.65   0.675  0.     0.     1.     0.    ]]\n",
            "[[1. 0.]\n",
            " [1. 0.]\n",
            " [0. 1.]\n",
            " [0. 1.]\n",
            " [1. 0.]\n",
            " [1. 0.]\n",
            " [1. 0.]\n",
            " [0. 1.]\n",
            " [0. 1.]\n",
            " [1. 0.]]\n"
          ],
          "name": "stdout"
        }
      ]
    },
    {
      "metadata": {
        "id": "jtnUgU8vNm4s",
        "colab_type": "text"
      },
      "cell_type": "markdown",
      "source": [
        "# Predicting Student Admissions with Neural Networks in Keras\n",
        "In this notebook, we predict student admissions to graduate school at UCLA based on three pieces of data:\n",
        "- GRE Scores (Test)\n",
        "- GPA Scores (Grades)\n",
        "- Class rank (1-4)\n",
        "\n",
        "The dataset originally came from here: http://www.ats.ucla.edu/\n",
        "\n",
        "## Loading the data\n",
        "To load the data and format it nicely, we will use two very useful packages called Pandas and Numpy. You can read on the documentation here:\n",
        "- https://pandas.pydata.org/pandas-docs/stable/\n",
        "- https://docs.scipy.org/"
      ]
    },
    {
      "metadata": {
        "id": "-mHfQeFGNm5T",
        "colab_type": "text"
      },
      "cell_type": "markdown",
      "source": [
        "## Defining the model architecture\n",
        "Here's where we use Keras to build our neural network."
      ]
    },
    {
      "metadata": {
        "id": "l66ZDxRQNm5T",
        "colab_type": "code",
        "colab": {
          "autoexec": {
            "startup": false,
            "wait_interval": 0
          },
          "base_uri": "https://localhost:8080/",
          "height": 306
        },
        "outputId": "0f3b0d19-f0f0-44c9-b722-c7ec7cabea7f",
        "executionInfo": {
          "status": "ok",
          "timestamp": 1525509779043,
          "user_tz": -120,
          "elapsed": 572,
          "user": {
            "displayName": "Dominik Söllinger",
            "photoUrl": "https://lh3.googleusercontent.com/a/default-user=s128",
            "userId": "102048379799982613199"
          }
        }
      },
      "cell_type": "code",
      "source": [
        "# Imports\n",
        "import numpy as np\n",
        "from keras.models import Sequential\n",
        "from keras.layers.core import Dense, Dropout, Activation\n",
        "from keras.optimizers import SGD\n",
        "from keras.utils import np_utils\n",
        "\n",
        "# Building the model\n",
        "model = Sequential()\n",
        "model.add(Dense(128, activation='relu', input_shape=(6,)))\n",
        "model.add(Dropout(.2))\n",
        "model.add(Dense(64, activation='relu'))\n",
        "model.add(Dropout(.1))\n",
        "model.add(Dense(2, activation='softmax'))\n",
        "\n",
        "# Compiling the model\n",
        "model.compile(loss = 'categorical_crossentropy', optimizer='adam', metrics=['accuracy'])\n",
        "model.summary()"
      ],
      "execution_count": 187,
      "outputs": [
        {
          "output_type": "stream",
          "text": [
            "_________________________________________________________________\n",
            "Layer (type)                 Output Shape              Param #   \n",
            "=================================================================\n",
            "dense_40 (Dense)             (None, 128)               896       \n",
            "_________________________________________________________________\n",
            "dropout_27 (Dropout)         (None, 128)               0         \n",
            "_________________________________________________________________\n",
            "dense_41 (Dense)             (None, 64)                8256      \n",
            "_________________________________________________________________\n",
            "dropout_28 (Dropout)         (None, 64)                0         \n",
            "_________________________________________________________________\n",
            "dense_42 (Dense)             (None, 2)                 130       \n",
            "=================================================================\n",
            "Total params: 9,282\n",
            "Trainable params: 9,282\n",
            "Non-trainable params: 0\n",
            "_________________________________________________________________\n"
          ],
          "name": "stdout"
        }
      ]
    },
    {
      "metadata": {
        "id": "5g73gfuANm5W",
        "colab_type": "text"
      },
      "cell_type": "markdown",
      "source": [
        "## Training the model"
      ]
    },
    {
      "metadata": {
        "id": "Y95zHwCONm5X",
        "colab_type": "code",
        "colab": {
          "autoexec": {
            "startup": false,
            "wait_interval": 0
          },
          "base_uri": "https://localhost:8080/",
          "height": 34
        },
        "outputId": "a81fa98f-f133-4a1e-c747-af3f719ad935",
        "executionInfo": {
          "status": "ok",
          "timestamp": 1525509788468,
          "user_tz": -120,
          "elapsed": 9341,
          "user": {
            "displayName": "Dominik Söllinger",
            "photoUrl": "https://lh3.googleusercontent.com/a/default-user=s128",
            "userId": "102048379799982613199"
          }
        }
      },
      "cell_type": "code",
      "source": [
        "# Training the model\n",
        "model.fit(features, targets, epochs=300, batch_size=100, verbose=0)"
      ],
      "execution_count": 188,
      "outputs": [
        {
          "output_type": "execute_result",
          "data": {
            "text/plain": [
              "<keras.callbacks.History at 0x7f18dae44d30>"
            ]
          },
          "metadata": {
            "tags": []
          },
          "execution_count": 188
        }
      ]
    },
    {
      "metadata": {
        "id": "nle2D0l4Nm5b",
        "colab_type": "text"
      },
      "cell_type": "markdown",
      "source": [
        "## Scoring the model"
      ]
    },
    {
      "metadata": {
        "id": "5EQpoSoaNm5c",
        "colab_type": "code",
        "colab": {
          "autoexec": {
            "startup": false,
            "wait_interval": 0
          },
          "base_uri": "https://localhost:8080/",
          "height": 119
        },
        "outputId": "c3886720-047a-4f81-e01d-f3a1c0fed644",
        "executionInfo": {
          "status": "ok",
          "timestamp": 1525509789620,
          "user_tz": -120,
          "elapsed": 1069,
          "user": {
            "displayName": "Dominik Söllinger",
            "photoUrl": "https://lh3.googleusercontent.com/a/default-user=s128",
            "userId": "102048379799982613199"
          }
        }
      },
      "cell_type": "code",
      "source": [
        "# Evaluating the model on the training and testing set\n",
        "score = model.evaluate(features, targets)\n",
        "print(\"\\n Training Accuracy:\", score[1])\n",
        "score = model.evaluate(features_test, targets_test)\n",
        "print(\"\\n Testing Accuracy:\", score[1])"
      ],
      "execution_count": 189,
      "outputs": [
        {
          "output_type": "stream",
          "text": [
            "360/360 [==============================] - 0s 523us/step\n",
            "\n",
            " Training Accuracy: 0.7194444444444444\n",
            "40/40 [==============================] - 0s 234us/step\n",
            "\n",
            " Testing Accuracy: 0.625\n"
          ],
          "name": "stdout"
        }
      ]
    },
    {
      "metadata": {
        "id": "UoFcrdfaNm5f",
        "colab_type": "text"
      },
      "cell_type": "markdown",
      "source": [
        "## Challenge: Play with the parameters!\n",
        "You can see that we made several decisions in our training. For instance, the number of layers, the sizes of the layers, the number of epochs, etc.\n",
        "It's your turn to play with parameters! Can you improve the accuracy? The following are other suggestions for these parameters. We'll learn the definitions later in the class:\n",
        "- Activation function: relu and sigmoid\n",
        "- Loss function: categorical_crossentropy, mean_squared_error\n",
        "- Optimizer: rmsprop, adam, ada"
      ]
    },
    {
      "metadata": {
        "id": "Mz38xo9aZewN",
        "colab_type": "text"
      },
      "cell_type": "markdown",
      "source": [
        "**Comparison:** \n",
        "</br> </br>\n",
        "\n",
        "**Cross Entropy / RELU / ADAM:**\n",
        "\n",
        "360/360 [==============================] - 0s 178us/step\n",
        "\n",
        " Training Accuracy: 0.725\n",
        "40/40 [==============================] - 0s 212us/step\n",
        "\n",
        " Testing Accuracy: 0.575\n",
        "\n",
        "</br>\n",
        "\n",
        "**Cross Entropy / Sigmoid / ADAM:**\n",
        "\n",
        "360/360 [==============================] - 0s 243us/step\n",
        "\n",
        " Training Accuracy: 0.6888888888888889\n",
        "40/40 [==============================] - 0s 226us/step\n",
        "\n",
        " Testing Accuracy: 0.725\n",
        " \n",
        "</br>\n",
        " \n",
        "**Mean Squared Error / RELU / ADAM:**\n",
        "360/360 [==============================] - 0s 285us/step\n",
        "\n",
        " Training Accuracy: 0.7111111111111111\n",
        "40/40 [==============================] - 0s 242us/step\n",
        "\n",
        " Testing Accuracy: 0.65\n",
        " \n",
        "</br>\n",
        "\n",
        " **Cross Entropy / RELU / RMSProp:**\n",
        "360/360 [==============================] - 0s 285us/step\n",
        "\n",
        " Training Accuracy: 0.7111111111111111\n",
        "40/40 [==============================] - 0s 242us/step\n",
        "\n",
        " Testing Accuracy: 0.65\n",
        " \n",
        "\n"
      ]
    }
  ]
}